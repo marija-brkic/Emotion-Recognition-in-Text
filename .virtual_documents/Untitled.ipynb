import numpy as np
from scipy.stats import mode



x1 = [0.3, 0.65, 0.04, 0.01, 0.]
x2 = [0.65, 0.3, 0.04, 0.01, 0.]
x3 = [0.6, 0.3, 0.04, 0.01, 0.05]





x1.shape


predictions_stack = np.column_stack((x1, x2, x3))


ensemble_preds, _ = mode(predictions_stack, axis=1)
ensemble_preds = ensemble_preds.flatten()



